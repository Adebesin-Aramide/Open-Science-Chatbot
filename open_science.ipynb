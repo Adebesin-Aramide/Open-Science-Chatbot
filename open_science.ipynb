{
 "cells": [
  {
   "cell_type": "code",
   "execution_count": 1,
   "metadata": {},
   "outputs": [
    {
     "name": "stderr",
     "output_type": "stream",
     "text": [
      "c:\\ProgramData\\Anaconda3\\envs\\araenv\\Lib\\site-packages\\pinecone\\index.py:4: TqdmExperimentalWarning: Using `tqdm.autonotebook.tqdm` in notebook mode. Use `tqdm.tqdm` instead to force console mode (e.g. in jupyter console)\n",
      "  from tqdm.autonotebook import tqdm\n"
     ]
    }
   ],
   "source": [
    "#importing the necessary libraries\n",
    "import os\n",
    "from langchain.document_loaders import DirectoryLoader\n",
    "from langchain.text_splitter import RecursiveCharacterTextSplitter\n",
    "from langchain.embeddings import SentenceTransformerEmbeddings\n",
    "from langchain.text_splitter import RecursiveCharacterTextSplitter\n",
    "import pinecone\n",
    "import streamlit as st\n",
    "import openai\n",
    "from langchain.vectorstores import Pinecone"
   ]
  },
  {
   "cell_type": "code",
   "execution_count": 12,
   "metadata": {},
   "outputs": [],
   "source": [
    "st.write(\"Openai api key:\", st.secrets[\"OPENAI_API_KEY\"])\n",
    "st.write(\"Pinecone api key:\", st.secrets[\"PINECONE_API_KEY\"])"
   ]
  },
  {
   "cell_type": "code",
   "execution_count": 2,
   "metadata": {},
   "outputs": [
    {
     "data": {
      "text/plain": [
       "2"
      ]
     },
     "execution_count": 2,
     "metadata": {},
     "output_type": "execute_result"
    }
   ],
   "source": [
    "#loading the documents from the data directory\n",
    "directory = \"data\"\n",
    "\n",
    "def load_docs(directory):\n",
    "  loader = DirectoryLoader(directory)\n",
    "  documents = loader.load()\n",
    "  return documents\n",
    "\n",
    "documents = load_docs(directory)\n",
    "len(documents)"
   ]
  },
  {
   "cell_type": "code",
   "execution_count": 4,
   "metadata": {},
   "outputs": [
    {
     "name": "stdout",
     "output_type": "stream",
     "text": [
      "145\n"
     ]
    }
   ],
   "source": [
    "\"\"\"splitting the document into smaller chunks to ensure the size of the document is manageable and that no relevant inormation\n",
    "is missed out\"\"\"\n",
    "def split_docs(documents, chunk_size=1000, chunk_overlap=20):\n",
    "  text_splitter = RecursiveCharacterTextSplitter(chunk_size=chunk_size, chunk_overlap=chunk_overlap)\n",
    "  docs = text_splitter.split_documents(documents)\n",
    "  return docs\n",
    "\n",
    "docs = split_docs(documents)\n",
    "print(len(docs))"
   ]
  },
  {
   "cell_type": "code",
   "execution_count": 5,
   "metadata": {},
   "outputs": [
    {
     "name": "stdout",
     "output_type": "stream",
     "text": [
      "Single sign-on using ORCID  Track user engagement  Auto-grading of assessment questions  Badging  Data analytics  Mobile-ready  10,000+ users, autoscaling\n",
      "\n",
      "Badging\n",
      "\n",
      "In order for the TOPS Open Science badge to be offered as part of in- person or virtual workshops, the following minimum requirements must be met.\n",
      "\n",
      "The event must be registered with the TOPS team.  Teach at least one module in full (Note: Although modules can stand alone, we recommend teaching Ethos of Open Science alongside your chosen module, as it provides the foundational understanding for Open Science practices and benefits to users).\n",
      "\n",
      "Have at least one certified instructor or apply for a waiver\n",
      "\n",
      "(application link TBD).\n",
      "\n",
      "Must use TOPS Open Science 101 curriculum materials.  Survey course participants before and after completion, using a survey that TOPS will provide for your use.\n"
     ]
    }
   ],
   "source": [
    "#displaying the page content of the splitted document\n",
    "print(docs[10].page_content)"
   ]
  },
  {
   "cell_type": "code",
   "execution_count": 6,
   "metadata": {},
   "outputs": [],
   "source": [
    "#creating embeddingxs by converting the splitted chunks of text into a format the the AI model can understand\n",
    "embeddings = SentenceTransformerEmbeddings(model_name=\"all-MiniLM-L6-v2\")"
   ]
  },
  {
   "cell_type": "code",
   "execution_count": 7,
   "metadata": {},
   "outputs": [
    {
     "data": {
      "text/plain": [
       "384"
      ]
     },
     "execution_count": 7,
     "metadata": {},
     "output_type": "execute_result"
    }
   ],
   "source": [
    "#checking the dimension of the embedded query\n",
    "query_result = embeddings.embed_query(\"Hello world\")\n",
    "len(query_result)"
   ]
  },
  {
   "cell_type": "code",
   "execution_count": 8,
   "metadata": {},
   "outputs": [],
   "source": [
    "#storing the embeddings in vector database pinecone\n",
    "pinecone.init(      \n",
    "\tapi_key=st.secrets[\"PINECONE_API_KEY\"],      \n",
    "\tenvironment=\"gcp-starter\"      \n",
    ")      \n",
    "index_name = \"langchain-chatbot\"\n",
    "\n",
    "index = Pinecone.from_documents(docs, embeddings, index_name=index_name)"
   ]
  },
  {
   "cell_type": "code",
   "execution_count": 9,
   "metadata": {},
   "outputs": [
    {
     "data": {
      "text/plain": [
       "['langchain-chatbot']"
      ]
     },
     "execution_count": 9,
     "metadata": {},
     "output_type": "execute_result"
    }
   ],
   "source": [
    "pinecone.init(api_key=st.secrets[\"PINECONE_API_KEY\"], environment=\"gcp-starter\")\n",
    "pinecone.list_indexes()"
   ]
  },
  {
   "cell_type": "code",
   "execution_count": 10,
   "metadata": {},
   "outputs": [
    {
     "data": {
      "text/plain": [
       "[Document(page_content='Open Science:\\n\\nOpen science is a movement that promotes transparency, collaboration, and the sharing of scientific knowledge and research findings. It aims to make scientific research more accessible, reproducible, and inclusive. Here are some key aspects of open science:\\n\\nOpen Access: Open access refers to making research publications, data, and other scientific materials freely available to the public. This allows anyone, regardless of their affiliation or location, to access and benefit from scientific knowledge.\\n\\nOpen Data: Open data involves sharing research data openly, typically in digital formats. This practice enables others to analyze, reproduce, and build upon existing research, fostering scientific progress.', metadata={'source': 'data\\\\open science.txt'})]"
      ]
     },
     "execution_count": 10,
     "metadata": {},
     "output_type": "execute_result"
    }
   ],
   "source": [
    "#accessing the embedding by using the similarity search function\n",
    "def get_similar_docs(query, k=1, score= False):\n",
    "  if score:\n",
    "    similar_docs = index.similarity_search_with_score(query, k=k)\n",
    "  else:\n",
    "    similar_docs = index.similarity_search(query, k=k)\n",
    "  return similar_docs\n",
    "\n",
    "query = \"What is open science\"\n",
    "similar_docs = get_similar_docs(query)\n",
    "similar_docs"
   ]
  }
 ],
 "metadata": {
  "kernelspec": {
   "display_name": "araenv",
   "language": "python",
   "name": "python3"
  },
  "language_info": {
   "codemirror_mode": {
    "name": "ipython",
    "version": 3
   },
   "file_extension": ".py",
   "mimetype": "text/x-python",
   "name": "python",
   "nbconvert_exporter": "python",
   "pygments_lexer": "ipython3",
   "version": "3.11.4"
  },
  "orig_nbformat": 4
 },
 "nbformat": 4,
 "nbformat_minor": 2
}
